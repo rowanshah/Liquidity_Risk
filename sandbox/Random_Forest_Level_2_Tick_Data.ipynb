{
 "cells": [
  {
   "cell_type": "code",
   "execution_count": 109,
   "metadata": {},
   "outputs": [],
   "source": [
    "import numpy as np\n",
    "import pandas as pd\n",
    "import h5py\n",
    "import matplotlib.pyplot as plt\n",
    "from sklearn.metrics import accuracy_score, mean_squared_error\n",
    "from scipy import stats\n",
    "from sklearn.ensemble import RandomForestClassifier\n",
    "from sklearn.model_selection import RandomizedSearchCV, GridSearchCV\n",
    "from sklearn.linear_model import LogisticRegression\n",
    "from sklearn import linear_model\n",
    "from sklearn.metrics import r2_score\n",
    "from math import sqrt\n",
    "from numpy import concatenate\n",
    "from sklearn.preprocessing import MinMaxScaler\n",
    "from sklearn.preprocessing import LabelEncoder\n",
    "from sklearn.metrics import mean_squared_error\n",
    "from pprint import pprint"
   ]
  },
  {
   "cell_type": "code",
   "execution_count": 82,
   "metadata": {},
   "outputs": [],
   "source": [
    "level_2 = pd.read_csv('./ABC_Tick_Data/ABC_Level_Two_Tick_Data.csv')\n",
    "level_2['L1_Bid_Ask_Spread'] = level_2['L1_AskPrice'] - level_2['L1_BidPrice']\n",
    "level_2['L1_Liquidity_Cost'] = level_2['L1_Bid_Ask_Spread']/2\n",
    "level_2 = level_2.dropna()\n",
    "level_2 = level_2.drop('Time_Minute',axis=1)\n",
    "level_2 = level_2.drop('Instrument_Code',axis=1)\n",
    "level_2 = level_2.drop('L1_Bid_Ask_Spread',axis=1)"
   ]
  },
  {
   "cell_type": "code",
   "execution_count": 83,
   "metadata": {},
   "outputs": [
    {
     "data": {
      "text/html": [
       "<div>\n",
       "<style scoped>\n",
       "    .dataframe tbody tr th:only-of-type {\n",
       "        vertical-align: middle;\n",
       "    }\n",
       "\n",
       "    .dataframe tbody tr th {\n",
       "        vertical-align: top;\n",
       "    }\n",
       "\n",
       "    .dataframe thead th {\n",
       "        text-align: right;\n",
       "    }\n",
       "</style>\n",
       "<table border=\"1\" class=\"dataframe\">\n",
       "  <thead>\n",
       "    <tr style=\"text-align: right;\">\n",
       "      <th></th>\n",
       "      <th>L1_BidSize</th>\n",
       "      <th>L2_BidSize</th>\n",
       "      <th>L3_BidSize</th>\n",
       "      <th>L4_BidSize</th>\n",
       "      <th>L5_BidSize</th>\n",
       "      <th>L6_BidSize</th>\n",
       "      <th>L7_BidSize</th>\n",
       "      <th>L8_BidSize</th>\n",
       "      <th>L9_BidSize</th>\n",
       "      <th>L10_BidSize</th>\n",
       "      <th>...</th>\n",
       "      <th>L3_AskPrice</th>\n",
       "      <th>L4_AskPrice</th>\n",
       "      <th>L5_AskPrice</th>\n",
       "      <th>L6_AskPrice</th>\n",
       "      <th>L7_AskPrice</th>\n",
       "      <th>L8_AskPrice</th>\n",
       "      <th>L9_AskPrice</th>\n",
       "      <th>L10_AskPrice</th>\n",
       "      <th>Normalised_Order_Book_Imbalance</th>\n",
       "      <th>L1_Liquidity_Cost</th>\n",
       "    </tr>\n",
       "  </thead>\n",
       "  <tbody>\n",
       "    <tr>\n",
       "      <th>1</th>\n",
       "      <td>1045.454545</td>\n",
       "      <td>1000.000000</td>\n",
       "      <td>954.545455</td>\n",
       "      <td>1090.909091</td>\n",
       "      <td>5181.818182</td>\n",
       "      <td>818.181818</td>\n",
       "      <td>772.727273</td>\n",
       "      <td>727.272727</td>\n",
       "      <td>681.818182</td>\n",
       "      <td>254.545455</td>\n",
       "      <td>...</td>\n",
       "      <td>54.454545</td>\n",
       "      <td>54.727273</td>\n",
       "      <td>54.772727</td>\n",
       "      <td>55.363636</td>\n",
       "      <td>55.727273</td>\n",
       "      <td>56.363636</td>\n",
       "      <td>57.272727</td>\n",
       "      <td>57.545455</td>\n",
       "      <td>0.207752</td>\n",
       "      <td>1.272727</td>\n",
       "    </tr>\n",
       "    <tr>\n",
       "      <th>2</th>\n",
       "      <td>137155.000000</td>\n",
       "      <td>13579.818180</td>\n",
       "      <td>19539.636360</td>\n",
       "      <td>20160.545450</td>\n",
       "      <td>39737.636360</td>\n",
       "      <td>47180.545450</td>\n",
       "      <td>43057.272730</td>\n",
       "      <td>50232.000000</td>\n",
       "      <td>41045.818180</td>\n",
       "      <td>26179.818180</td>\n",
       "      <td>...</td>\n",
       "      <td>50.505977</td>\n",
       "      <td>50.928170</td>\n",
       "      <td>51.371194</td>\n",
       "      <td>51.366781</td>\n",
       "      <td>50.976629</td>\n",
       "      <td>50.977098</td>\n",
       "      <td>51.041609</td>\n",
       "      <td>51.660209</td>\n",
       "      <td>-0.179581</td>\n",
       "      <td>-3.979040</td>\n",
       "    </tr>\n",
       "    <tr>\n",
       "      <th>3</th>\n",
       "      <td>15027.363640</td>\n",
       "      <td>5485.454545</td>\n",
       "      <td>146.363636</td>\n",
       "      <td>93.181818</td>\n",
       "      <td>100.000000</td>\n",
       "      <td>409.090909</td>\n",
       "      <td>204.545455</td>\n",
       "      <td>2336.545455</td>\n",
       "      <td>9091.636364</td>\n",
       "      <td>809.090909</td>\n",
       "      <td>...</td>\n",
       "      <td>48.663636</td>\n",
       "      <td>49.152354</td>\n",
       "      <td>49.743781</td>\n",
       "      <td>50.152834</td>\n",
       "      <td>50.163790</td>\n",
       "      <td>50.443140</td>\n",
       "      <td>50.463636</td>\n",
       "      <td>50.509091</td>\n",
       "      <td>-0.258814</td>\n",
       "      <td>-6.018182</td>\n",
       "    </tr>\n",
       "    <tr>\n",
       "      <th>4</th>\n",
       "      <td>42198.090910</td>\n",
       "      <td>20454.545450</td>\n",
       "      <td>463.636364</td>\n",
       "      <td>340.909091</td>\n",
       "      <td>34.090909</td>\n",
       "      <td>1363.636364</td>\n",
       "      <td>681.818182</td>\n",
       "      <td>340.909091</td>\n",
       "      <td>39464.181820</td>\n",
       "      <td>27164.727270</td>\n",
       "      <td>...</td>\n",
       "      <td>48.663636</td>\n",
       "      <td>49.545455</td>\n",
       "      <td>50.090909</td>\n",
       "      <td>50.163636</td>\n",
       "      <td>50.181818</td>\n",
       "      <td>50.445455</td>\n",
       "      <td>50.490909</td>\n",
       "      <td>50.536364</td>\n",
       "      <td>-0.026419</td>\n",
       "      <td>-6.018182</td>\n",
       "    </tr>\n",
       "    <tr>\n",
       "      <th>5</th>\n",
       "      <td>2072.090909</td>\n",
       "      <td>1363.636364</td>\n",
       "      <td>30.909091</td>\n",
       "      <td>22.727273</td>\n",
       "      <td>2.272727</td>\n",
       "      <td>90.909091</td>\n",
       "      <td>45.454545</td>\n",
       "      <td>22.727273</td>\n",
       "      <td>2727.272727</td>\n",
       "      <td>2272.727273</td>\n",
       "      <td>...</td>\n",
       "      <td>48.663636</td>\n",
       "      <td>49.545455</td>\n",
       "      <td>50.090909</td>\n",
       "      <td>50.163636</td>\n",
       "      <td>50.181818</td>\n",
       "      <td>50.445455</td>\n",
       "      <td>50.490909</td>\n",
       "      <td>50.536364</td>\n",
       "      <td>0.129023</td>\n",
       "      <td>-6.018182</td>\n",
       "    </tr>\n",
       "    <tr>\n",
       "      <th>...</th>\n",
       "      <td>...</td>\n",
       "      <td>...</td>\n",
       "      <td>...</td>\n",
       "      <td>...</td>\n",
       "      <td>...</td>\n",
       "      <td>...</td>\n",
       "      <td>...</td>\n",
       "      <td>...</td>\n",
       "      <td>...</td>\n",
       "      <td>...</td>\n",
       "      <td>...</td>\n",
       "      <td>...</td>\n",
       "      <td>...</td>\n",
       "      <td>...</td>\n",
       "      <td>...</td>\n",
       "      <td>...</td>\n",
       "      <td>...</td>\n",
       "      <td>...</td>\n",
       "      <td>...</td>\n",
       "      <td>...</td>\n",
       "      <td>...</td>\n",
       "    </tr>\n",
       "    <tr>\n",
       "      <th>47338</th>\n",
       "      <td>70421.818180</td>\n",
       "      <td>86789.818180</td>\n",
       "      <td>3938.909091</td>\n",
       "      <td>44155.636360</td>\n",
       "      <td>6596.727273</td>\n",
       "      <td>1602.909091</td>\n",
       "      <td>48074.181820</td>\n",
       "      <td>29.090909</td>\n",
       "      <td>3938.909091</td>\n",
       "      <td>32.000000</td>\n",
       "      <td>...</td>\n",
       "      <td>36.991278</td>\n",
       "      <td>37.012883</td>\n",
       "      <td>37.016248</td>\n",
       "      <td>37.033862</td>\n",
       "      <td>37.036948</td>\n",
       "      <td>37.060655</td>\n",
       "      <td>37.078627</td>\n",
       "      <td>37.073496</td>\n",
       "      <td>-0.706447</td>\n",
       "      <td>0.032982</td>\n",
       "    </tr>\n",
       "    <tr>\n",
       "      <th>47339</th>\n",
       "      <td>13204.090910</td>\n",
       "      <td>16273.090910</td>\n",
       "      <td>738.545455</td>\n",
       "      <td>8279.181818</td>\n",
       "      <td>738.545455</td>\n",
       "      <td>300.545455</td>\n",
       "      <td>9013.909091</td>\n",
       "      <td>5.454545</td>\n",
       "      <td>738.545455</td>\n",
       "      <td>6.000000</td>\n",
       "      <td>...</td>\n",
       "      <td>37.027643</td>\n",
       "      <td>37.054079</td>\n",
       "      <td>37.076843</td>\n",
       "      <td>37.104065</td>\n",
       "      <td>37.128864</td>\n",
       "      <td>37.135494</td>\n",
       "      <td>37.222738</td>\n",
       "      <td>37.248290</td>\n",
       "      <td>-0.774880</td>\n",
       "      <td>0.072559</td>\n",
       "    </tr>\n",
       "    <tr>\n",
       "      <th>47340</th>\n",
       "      <td>4401.363636</td>\n",
       "      <td>5424.363636</td>\n",
       "      <td>246.181818</td>\n",
       "      <td>2759.727273</td>\n",
       "      <td>246.181818</td>\n",
       "      <td>100.181818</td>\n",
       "      <td>3004.636364</td>\n",
       "      <td>1.818182</td>\n",
       "      <td>246.181818</td>\n",
       "      <td>2.000000</td>\n",
       "      <td>...</td>\n",
       "      <td>37.068182</td>\n",
       "      <td>37.072727</td>\n",
       "      <td>37.095455</td>\n",
       "      <td>37.127273</td>\n",
       "      <td>37.159091</td>\n",
       "      <td>37.227273</td>\n",
       "      <td>37.245455</td>\n",
       "      <td>37.272727</td>\n",
       "      <td>-0.776209</td>\n",
       "      <td>0.086364</td>\n",
       "    </tr>\n",
       "    <tr>\n",
       "      <th>47341</th>\n",
       "      <td>11264.545450</td>\n",
       "      <td>28089.636360</td>\n",
       "      <td>7981.272727</td>\n",
       "      <td>1494.181818</td>\n",
       "      <td>3221.363636</td>\n",
       "      <td>8226.727273</td>\n",
       "      <td>267.818182</td>\n",
       "      <td>327767.090900</td>\n",
       "      <td>42387.454550</td>\n",
       "      <td>82127.545450</td>\n",
       "      <td>...</td>\n",
       "      <td>37.068182</td>\n",
       "      <td>37.082070</td>\n",
       "      <td>37.108984</td>\n",
       "      <td>37.132606</td>\n",
       "      <td>37.159098</td>\n",
       "      <td>37.245420</td>\n",
       "      <td>37.245455</td>\n",
       "      <td>37.429168</td>\n",
       "      <td>-0.409651</td>\n",
       "      <td>0.087854</td>\n",
       "    </tr>\n",
       "    <tr>\n",
       "      <th>47342</th>\n",
       "      <td>211016.545500</td>\n",
       "      <td>183306.000000</td>\n",
       "      <td>199580.272700</td>\n",
       "      <td>181061.090900</td>\n",
       "      <td>290514.363600</td>\n",
       "      <td>162743.909100</td>\n",
       "      <td>336441.636400</td>\n",
       "      <td>135771.727300</td>\n",
       "      <td>126003.727300</td>\n",
       "      <td>133087.272700</td>\n",
       "      <td>...</td>\n",
       "      <td>37.090587</td>\n",
       "      <td>37.118528</td>\n",
       "      <td>37.161896</td>\n",
       "      <td>37.198261</td>\n",
       "      <td>38.988562</td>\n",
       "      <td>39.563782</td>\n",
       "      <td>40.779270</td>\n",
       "      <td>40.848567</td>\n",
       "      <td>-0.604045</td>\n",
       "      <td>0.257718</td>\n",
       "    </tr>\n",
       "  </tbody>\n",
       "</table>\n",
       "<p>47211 rows × 42 columns</p>\n",
       "</div>"
      ],
      "text/plain": [
       "          L1_BidSize     L2_BidSize     L3_BidSize     L4_BidSize  \\\n",
       "1        1045.454545    1000.000000     954.545455    1090.909091   \n",
       "2      137155.000000   13579.818180   19539.636360   20160.545450   \n",
       "3       15027.363640    5485.454545     146.363636      93.181818   \n",
       "4       42198.090910   20454.545450     463.636364     340.909091   \n",
       "5        2072.090909    1363.636364      30.909091      22.727273   \n",
       "...              ...            ...            ...            ...   \n",
       "47338   70421.818180   86789.818180    3938.909091   44155.636360   \n",
       "47339   13204.090910   16273.090910     738.545455    8279.181818   \n",
       "47340    4401.363636    5424.363636     246.181818    2759.727273   \n",
       "47341   11264.545450   28089.636360    7981.272727    1494.181818   \n",
       "47342  211016.545500  183306.000000  199580.272700  181061.090900   \n",
       "\n",
       "          L5_BidSize     L6_BidSize     L7_BidSize     L8_BidSize  \\\n",
       "1        5181.818182     818.181818     772.727273     727.272727   \n",
       "2       39737.636360   47180.545450   43057.272730   50232.000000   \n",
       "3         100.000000     409.090909     204.545455    2336.545455   \n",
       "4          34.090909    1363.636364     681.818182     340.909091   \n",
       "5           2.272727      90.909091      45.454545      22.727273   \n",
       "...              ...            ...            ...            ...   \n",
       "47338    6596.727273    1602.909091   48074.181820      29.090909   \n",
       "47339     738.545455     300.545455    9013.909091       5.454545   \n",
       "47340     246.181818     100.181818    3004.636364       1.818182   \n",
       "47341    3221.363636    8226.727273     267.818182  327767.090900   \n",
       "47342  290514.363600  162743.909100  336441.636400  135771.727300   \n",
       "\n",
       "          L9_BidSize    L10_BidSize  ...  L3_AskPrice  L4_AskPrice  \\\n",
       "1         681.818182     254.545455  ...    54.454545    54.727273   \n",
       "2       41045.818180   26179.818180  ...    50.505977    50.928170   \n",
       "3        9091.636364     809.090909  ...    48.663636    49.152354   \n",
       "4       39464.181820   27164.727270  ...    48.663636    49.545455   \n",
       "5        2727.272727    2272.727273  ...    48.663636    49.545455   \n",
       "...              ...            ...  ...          ...          ...   \n",
       "47338    3938.909091      32.000000  ...    36.991278    37.012883   \n",
       "47339     738.545455       6.000000  ...    37.027643    37.054079   \n",
       "47340     246.181818       2.000000  ...    37.068182    37.072727   \n",
       "47341   42387.454550   82127.545450  ...    37.068182    37.082070   \n",
       "47342  126003.727300  133087.272700  ...    37.090587    37.118528   \n",
       "\n",
       "       L5_AskPrice  L6_AskPrice  L7_AskPrice  L8_AskPrice  L9_AskPrice  \\\n",
       "1        54.772727    55.363636    55.727273    56.363636    57.272727   \n",
       "2        51.371194    51.366781    50.976629    50.977098    51.041609   \n",
       "3        49.743781    50.152834    50.163790    50.443140    50.463636   \n",
       "4        50.090909    50.163636    50.181818    50.445455    50.490909   \n",
       "5        50.090909    50.163636    50.181818    50.445455    50.490909   \n",
       "...            ...          ...          ...          ...          ...   \n",
       "47338    37.016248    37.033862    37.036948    37.060655    37.078627   \n",
       "47339    37.076843    37.104065    37.128864    37.135494    37.222738   \n",
       "47340    37.095455    37.127273    37.159091    37.227273    37.245455   \n",
       "47341    37.108984    37.132606    37.159098    37.245420    37.245455   \n",
       "47342    37.161896    37.198261    38.988562    39.563782    40.779270   \n",
       "\n",
       "       L10_AskPrice  Normalised_Order_Book_Imbalance  L1_Liquidity_Cost  \n",
       "1         57.545455                         0.207752           1.272727  \n",
       "2         51.660209                        -0.179581          -3.979040  \n",
       "3         50.509091                        -0.258814          -6.018182  \n",
       "4         50.536364                        -0.026419          -6.018182  \n",
       "5         50.536364                         0.129023          -6.018182  \n",
       "...             ...                              ...                ...  \n",
       "47338     37.073496                        -0.706447           0.032982  \n",
       "47339     37.248290                        -0.774880           0.072559  \n",
       "47340     37.272727                        -0.776209           0.086364  \n",
       "47341     37.429168                        -0.409651           0.087854  \n",
       "47342     40.848567                        -0.604045           0.257718  \n",
       "\n",
       "[47211 rows x 42 columns]"
      ]
     },
     "execution_count": 83,
     "metadata": {},
     "output_type": "execute_result"
    }
   ],
   "source": [
    "level_2"
   ]
  },
  {
   "cell_type": "code",
   "execution_count": 84,
   "metadata": {},
   "outputs": [],
   "source": [
    "X = level_2.loc[:, ~level_2.columns.isin(['L1_Liquidity_Cost'])].values\n",
    "y = level_2['L1_Liquidity_Cost'].values"
   ]
  },
  {
   "cell_type": "code",
   "execution_count": 85,
   "metadata": {},
   "outputs": [
    {
     "name": "stdout",
     "output_type": "stream",
     "text": [
      "Average baseline error:  0.26\n",
      "Average model error: 0.02\n",
      "Improvement over baseline: 91.32 %.\n",
      "Accuracy: -3.89 %.\n"
     ]
    }
   ],
   "source": [
    "# Read in data as pandas dataframe and display first 5 rows\n",
    "original_features = pd.get_dummies(level_2)\n",
    "\n",
    "# Labels are the values we want to predict\n",
    "original_labels = np.array(original_features['L1_Liquidity_Cost'])\n",
    "\n",
    "# Remove the labels from the features\n",
    "# axis 1 refers to the columns\n",
    "original_features= original_features.drop('L1_Liquidity_Cost', axis = 1)\n",
    "\n",
    "# Saving feature names for later use\n",
    "original_feature_list = list(original_features.columns)\n",
    "\n",
    "# Convert to numpy array\n",
    "original_features = np.array(original_features)\n",
    "\n",
    "# Using Skicit-learn to split data into training and testing sets\n",
    "from sklearn.model_selection import train_test_split\n",
    "\n",
    "# Split the data into training and testing sets\n",
    "original_train_features, original_test_features, original_train_labels, original_test_labels = train_test_split(original_features, original_labels, test_size = 0.25, random_state = 42)\n",
    "\n",
    "# The baseline predictions\n",
    "baseline_preds = original_test_features[:, original_feature_list.index('Normalised_Order_Book_Imbalance')]\n",
    "\n",
    "# Baseline errors, and display average baseline error\n",
    "baseline_errors = abs(baseline_preds - original_test_labels)\n",
    "print('Average baseline error: ', round(np.mean(baseline_errors), 2))\n",
    "\n",
    "# Import the model we are using\n",
    "from sklearn.ensemble import RandomForestRegressor\n",
    "\n",
    "# Instantiate model \n",
    "rf = RandomForestRegressor(n_estimators= 1000, random_state=42)\n",
    "\n",
    "# Train the model on training data\n",
    "rf.fit(original_train_features, original_train_labels);\n",
    "\n",
    "# Use the forest's predict method on the test data\n",
    "predictions = rf.predict(original_test_features)\n",
    "\n",
    "# Calculate the absolute errors\n",
    "errors = abs(predictions - original_test_labels)\n",
    "\n",
    "# Print out the mean absolute error (mae)\n",
    "print('Average model error:', round(np.mean(errors), 2))\n",
    "\n",
    "# Compare to baseline\n",
    "improvement_baseline = 100 * abs(np.mean(errors) - np.mean(baseline_errors)) / np.mean(baseline_errors)\n",
    "print('Improvement over baseline:', round(improvement_baseline, 2), '%.')\n",
    "\n",
    "# Calculate mean absolute percentage error (MAPE)\n",
    "mape = 100 * (errors / original_test_labels)\n",
    "\n",
    "# Calculate and display accuracy\n",
    "accuracy = 100 - np.mean(mape)\n",
    "print('Accuracy:', round(accuracy, 2), '%.')"
   ]
  },
  {
   "cell_type": "markdown",
   "metadata": {},
   "source": [
    "# Feature Reduction\n",
    "\n",
    "### Feature Importance"
   ]
  },
  {
   "cell_type": "code",
   "execution_count": 86,
   "metadata": {},
   "outputs": [
    {
     "name": "stdout",
     "output_type": "stream",
     "text": [
      "Variable: L1_AskPrice          Importance: 0.41\n",
      "Variable: L1_AskSize           Importance: 0.19\n",
      "Variable: L1_BidPrice          Importance: 0.18\n",
      "Variable: L1_BidSize           Importance: 0.14\n",
      "Variable: L2_BidSize           Importance: 0.02\n",
      "Variable: L5_BidSize           Importance: 0.01\n",
      "Variable: L6_BidSize           Importance: 0.01\n",
      "Variable: L3_BidSize           Importance: 0.0\n",
      "Variable: L4_BidSize           Importance: 0.0\n",
      "Variable: L7_BidSize           Importance: 0.0\n",
      "Variable: L8_BidSize           Importance: 0.0\n",
      "Variable: L9_BidSize           Importance: 0.0\n",
      "Variable: L10_BidSize          Importance: 0.0\n",
      "Variable: L2_AskSize           Importance: 0.0\n",
      "Variable: L3_AskSize           Importance: 0.0\n",
      "Variable: L4_AskSize           Importance: 0.0\n",
      "Variable: L5_AskSize           Importance: 0.0\n",
      "Variable: L6_AskSize           Importance: 0.0\n",
      "Variable: L7_AskSize           Importance: 0.0\n",
      "Variable: L8_AskSize           Importance: 0.0\n",
      "Variable: L9_AskSize           Importance: 0.0\n",
      "Variable: L10_AskSize          Importance: 0.0\n",
      "Variable: L2_BidPrice          Importance: 0.0\n",
      "Variable: L3_BidPrice          Importance: 0.0\n",
      "Variable: L4_BidPrice          Importance: 0.0\n",
      "Variable: L5_BidPrice          Importance: 0.0\n",
      "Variable: L6_BidPrice          Importance: 0.0\n",
      "Variable: L7_BidPrice          Importance: 0.0\n",
      "Variable: L8_BidPrice          Importance: 0.0\n",
      "Variable: L9_BidPrice          Importance: 0.0\n",
      "Variable: L10_BidPrice         Importance: 0.0\n",
      "Variable: L2_AskPrice          Importance: 0.0\n",
      "Variable: L3_AskPrice          Importance: 0.0\n",
      "Variable: L4_AskPrice          Importance: 0.0\n",
      "Variable: L5_AskPrice          Importance: 0.0\n",
      "Variable: L6_AskPrice          Importance: 0.0\n",
      "Variable: L7_AskPrice          Importance: 0.0\n",
      "Variable: L8_AskPrice          Importance: 0.0\n",
      "Variable: L9_AskPrice          Importance: 0.0\n",
      "Variable: L10_AskPrice         Importance: 0.0\n",
      "Variable: Normalised_Order_Book_Imbalance Importance: 0.0\n"
     ]
    }
   ],
   "source": [
    "# Get numerical feature importances\n",
    "importances = list(rf.feature_importances_)\n",
    "\n",
    "# List of tuples with variable and importance\n",
    "feature_importances = [(feature, round(importance, 2)) for feature, importance in zip(original_feature_list, importances)]\n",
    "\n",
    "# Sort the feature importances by most important first\n",
    "feature_importances = sorted(feature_importances, key = lambda x: x[1], reverse = True)\n",
    "\n",
    "# Print out the feature and importances \n",
    "[print('Variable: {:20} Importance: {}'.format(*pair)) for pair in feature_importances];"
   ]
  },
  {
   "cell_type": "markdown",
   "metadata": {},
   "source": [
    "### Visualise Feature Importance"
   ]
  },
  {
   "cell_type": "code",
   "execution_count": 89,
   "metadata": {},
   "outputs": [
    {
     "data": {
      "image/png": "[encoded data removed]",
      "text/plain": [
       "<Figure size 1296x648 with 1 Axes>"
      ]
     },
     "metadata": {},
     "output_type": "display_data"
    }
   ],
   "source": [
    "# Reset style \n",
    "plt.style.use('fivethirtyeight')\n",
    "\n",
    "plt.figure(figsize = (18,9))\n",
    "\n",
    "# list of x for plotting\n",
    "x_values = list(range(len(importances)))\n",
    "\n",
    "# Make a bar chart\n",
    "plt.bar(x_values, importances, orientation = 'vertical', color = 'r', edgecolor = 'k', linewidth = 1.2)\n",
    "\n",
    "# Tick labels for x axis\n",
    "plt.xticks(x_values, original_feature_list, rotation='vertical')\n",
    "\n",
    "# Axis labels and title\n",
    "plt.ylabel('Importance'); plt.xlabel('Variable'); plt.title('Variable Importances');"
   ]
  },
  {
   "cell_type": "code",
   "execution_count": 91,
   "metadata": {},
   "outputs": [
    {
     "data": {
      "image/png": "[encoded data removed]",
      "text/plain": [
       "<Figure size 1296x648 with 1 Axes>"
      ]
     },
     "metadata": {},
     "output_type": "display_data"
    }
   ],
   "source": [
    "plt.figure(figsize = (18,9))\n",
    "\n",
    "# List of features sorted from most to least important\n",
    "sorted_importances = [importance[1] for importance in feature_importances]\n",
    "sorted_features = [importance[0] for importance in feature_importances]\n",
    "\n",
    "# Cumulative importances\n",
    "cumulative_importances = np.cumsum(sorted_importances)\n",
    "\n",
    "# Make a line graph\n",
    "plt.plot(x_values, cumulative_importances, 'g-')\n",
    "\n",
    "# Draw line at 95% of importance retained\n",
    "plt.hlines(y = 0.95, xmin=0, xmax=len(sorted_importances), color = 'r', linestyles = 'dashed')\n",
    "\n",
    "# Format x ticks and labels\n",
    "plt.xticks(x_values, sorted_features, rotation = 'vertical')\n",
    "\n",
    "# Axis labels and title\n",
    "plt.xlabel('Variable'); plt.ylabel('Cumulative Importance'); plt.title('Cumulative Importances');"
   ]
  },
  {
   "cell_type": "markdown",
   "metadata": {},
   "source": [
    "### Limit Number of Features\n",
    "\n",
    "We will now reduce the number of features in use by the model to only those required to account for 95% of the importance. The same number of features must be used in the training and testing sets."
   ]
  },
  {
   "cell_type": "code",
   "execution_count": 92,
   "metadata": {},
   "outputs": [
    {
     "name": "stdout",
     "output_type": "stream",
     "text": [
      "Number of features for 95% importance: 6\n"
     ]
    }
   ],
   "source": [
    "# Find number of features for cumulative importance of 95%\n",
    "# Add 1 because Python is zero-indexed\n",
    "print('Number of features for 95% importance:', np.where(cumulative_importances > 0.95)[0][0] + 1)"
   ]
  },
  {
   "cell_type": "code",
   "execution_count": 95,
   "metadata": {},
   "outputs": [
    {
     "name": "stdout",
     "output_type": "stream",
     "text": [
      "Important train features shape: (35408, 6)\n",
      "Important test features shape: (11803, 6)\n"
     ]
    }
   ],
   "source": [
    "# Extract the names of the most important features\n",
    "important_feature_names = [feature[0] for feature in feature_importances[0:6]]\n",
    "# Find the columns of the most important features\n",
    "important_indices = [original_feature_list.index(feature) for feature in important_feature_names]\n",
    "\n",
    "# Create training and testing sets with only the important features\n",
    "important_train_features = original_train_features[:, important_indices]\n",
    "important_test_features = original_test_features[:, important_indices]\n",
    "\n",
    "# Sanity check on operations\n",
    "print('Important train features shape:', important_train_features.shape)\n",
    "print('Important test features shape:', important_test_features.shape)"
   ]
  },
  {
   "cell_type": "markdown",
   "metadata": {},
   "source": [
    "### Training on Important Features"
   ]
  },
  {
   "cell_type": "code",
   "execution_count": 98,
   "metadata": {},
   "outputs": [],
   "source": [
    "# Train the expanded model on only the important features\n",
    "rf.fit(important_train_features, original_train_labels)"
   ]
  },
  {
   "cell_type": "markdown",
   "metadata": {},
   "source": [
    "### Evaluate on Important features"
   ]
  },
  {
   "cell_type": "code",
   "execution_count": 101,
   "metadata": {},
   "outputs": [
    {
     "name": "stdout",
     "output_type": "stream",
     "text": [
      "Average absolute error: 0.0174\n",
      "Accuracy: 10.03 %.\n"
     ]
    }
   ],
   "source": [
    "# Make predictions on test data\n",
    "predictions = rf.predict(important_test_features)\n",
    "\n",
    "# Performance metrics\n",
    "errors = abs(predictions - original_test_labels)\n",
    "\n",
    "print('Average absolute error:', round(np.mean(errors), 4))\n",
    "\n",
    "# Calculate mean absolute percentage error (MAPE)\n",
    "mape = 100 * (errors / original_test_labels)\n",
    "\n",
    "# Calculate and display accuracy\n",
    "accuracy = 100 - np.mean(mape)\n",
    "print('Accuracy:', round(accuracy, 2), '%.')"
   ]
  },
  {
   "cell_type": "markdown",
   "metadata": {},
   "source": [
    "# Improving Random Forest"
   ]
  },
  {
   "cell_type": "code",
   "execution_count": 104,
   "metadata": {},
   "outputs": [],
   "source": [
    "# One Hot Encoding\n",
    "features = pd.get_dummies(level_2)\n",
    "\n",
    "# Extract features and labels\n",
    "labels = features['L1_Liquidity_Cost']\n",
    "features = features.drop('L1_Liquidity_Cost', axis = 1)\n",
    "\n",
    "# List of features for later use\n",
    "feature_list = list(features.columns)\n",
    "\n",
    "\n",
    "features = np.array(features)\n",
    "labels = np.array(labels)\n",
    "\n",
    "\n",
    "train_features, test_features, train_labels, test_labels = train_test_split(features, labels, \n",
    "                                                                            test_size = 0.25, random_state = 42)"
   ]
  },
  {
   "cell_type": "code",
   "execution_count": 105,
   "metadata": {},
   "outputs": [
    {
     "name": "stdout",
     "output_type": "stream",
     "text": [
      "Training Features Shape: (35408, 41)\n",
      "Training Labels Shape: (35408,)\n",
      "Testing Features Shape: (11803, 41)\n",
      "Testing Labels Shape: (11803,)\n"
     ]
    }
   ],
   "source": [
    "print('Training Features Shape:', train_features.shape)\n",
    "print('Training Labels Shape:', train_labels.shape)\n",
    "print('Testing Features Shape:', test_features.shape)\n",
    "print('Testing Labels Shape:', test_labels.shape)"
   ]
  },
  {
   "cell_type": "markdown",
   "metadata": {},
   "source": [
    "### Restrict to most important features\n",
    "\n",
    "These were the six features required to reach a total feature importance of 95% in the first improving random forest notebook. We will use only these features in order to speed up the model."
   ]
  },
  {
   "cell_type": "code",
   "execution_count": 106,
   "metadata": {},
   "outputs": [
    {
     "name": "stdout",
     "output_type": "stream",
     "text": [
      "Important train features shape: (35408, 6)\n",
      "Important test features shape: (11803, 6)\n"
     ]
    }
   ],
   "source": [
    "# Names of six importances accounting for 95% of total importance\n",
    "important_feature_names = ['L1_AskPrice', 'L1_AskSize', 'L1_BidPrice', 'L1_BidSize', 'L2_BidSize', 'L5_BidSize']\n",
    "\n",
    "# Find the columns of the most important features\n",
    "important_indices = [feature_list.index(feature) for feature in important_feature_names]\n",
    "\n",
    "# Create training and testing sets with only the important features\n",
    "important_train_features = train_features[:, important_indices]\n",
    "important_test_features = test_features[:, important_indices]\n",
    "\n",
    "# Sanity check on operations\n",
    "print('Important train features shape:', important_train_features.shape)\n",
    "print('Important test features shape:', important_test_features.shape)"
   ]
  },
  {
   "cell_type": "code",
   "execution_count": 107,
   "metadata": {},
   "outputs": [],
   "source": [
    "# Use only the most important features\n",
    "train_features = important_train_features[:]\n",
    "test_features = important_test_features[:]\n",
    "\n",
    "# Update feature list for visualizations\n",
    "feature_list = important_feature_names[:]"
   ]
  },
  {
   "cell_type": "markdown",
   "metadata": {},
   "source": [
    "### Examine the Default Random Forest to Determine Parameters"
   ]
  },
  {
   "cell_type": "code",
   "execution_count": 110,
   "metadata": {},
   "outputs": [
    {
     "name": "stdout",
     "output_type": "stream",
     "text": [
      "Parameters currently in use:\n",
      "\n",
      "{'bootstrap': True,\n",
      " 'ccp_alpha': 0.0,\n",
      " 'criterion': 'mse',\n",
      " 'max_depth': None,\n",
      " 'max_features': 'auto',\n",
      " 'max_leaf_nodes': None,\n",
      " 'max_samples': None,\n",
      " 'min_impurity_decrease': 0.0,\n",
      " 'min_impurity_split': None,\n",
      " 'min_samples_leaf': 1,\n",
      " 'min_samples_split': 2,\n",
      " 'min_weight_fraction_leaf': 0.0,\n",
      " 'n_estimators': 100,\n",
      " 'n_jobs': None,\n",
      " 'oob_score': False,\n",
      " 'random_state': 42,\n",
      " 'verbose': 0,\n",
      " 'warm_start': False}\n"
     ]
    }
   ],
   "source": [
    "rf = RandomForestRegressor(random_state = 42)\n",
    "\n",
    "# Look at parameters used by our current forest\n",
    "print('Parameters currently in use:\\n')\n",
    "pprint(rf.get_params())"
   ]
  },
  {
   "cell_type": "markdown",
   "metadata": {},
   "source": [
    "### Random Search with Cross Validation"
   ]
  },
  {
   "cell_type": "code",
   "execution_count": 113,
   "metadata": {},
   "outputs": [],
   "source": [
    "# Number of trees in random forest\n",
    "n_estimators = [int(x) for x in np.linspace(start = 200, stop = 500, num = 10)]\n",
    "# Number of features to consider at every split\n",
    "max_features = ['auto', 'sqrt']\n",
    "# Maximum number of levels in tree\n",
    "max_depth = [int(x) for x in np.linspace(10, 100, num = 10)]\n",
    "max_depth.append(None)\n",
    "# Minimum number of samples required to split a node\n",
    "min_samples_split = [2, 5, 10]\n",
    "# Minimum number of samples required at each leaf node\n",
    "min_samples_leaf = [1, 2, 4]\n",
    "# Method of selecting samples for training each tree\n",
    "bootstrap = [True, False]\n",
    "\n",
    "# Create the random grid\n",
    "random_grid = {'n_estimators': n_estimators,\n",
    "               'max_features': max_features,\n",
    "               'max_depth': max_depth,\n",
    "               'min_samples_split': min_samples_split,\n",
    "               'min_samples_leaf': min_samples_leaf,\n",
    "               'bootstrap': bootstrap}"
   ]
  },
  {
   "cell_type": "code",
   "execution_count": 114,
   "metadata": {},
   "outputs": [
    {
     "name": "stdout",
     "output_type": "stream",
     "text": [
      "Fitting 3 folds for each of 100 candidates, totalling 300 fits\n"
     ]
    },
    {
     "name": "stderr",
     "output_type": "stream",
     "text": [
      "[Parallel(n_jobs=-1)]: Using backend LokyBackend with 4 concurrent workers.\n",
      "[Parallel(n_jobs=-1)]: Done  33 tasks      | elapsed: 25.4min\n",
      "[Parallel(n_jobs=-1)]: Done 154 tasks      | elapsed: 104.4min\n",
      "[Parallel(n_jobs=-1)]: Done 300 out of 300 | elapsed: 252.0min finished\n"
     ]
    },
    {
     "data": {
      "text/plain": [
       "RandomizedSearchCV(cv=3, estimator=RandomForestRegressor(), n_iter=100,\n",
       "                   n_jobs=-1,\n",
       "                   param_distributions={'bootstrap': [True, False],\n",
       "                                        'max_depth': [10, 20, 30, 40, 50, 60,\n",
       "                                                      70, 80, 90, 100, None],\n",
       "                                        'max_features': ['auto', 'sqrt'],\n",
       "                                        'min_samples_leaf': [1, 2, 4],\n",
       "                                        'min_samples_split': [2, 5, 10],\n",
       "                                        'n_estimators': [200, 233, 266, 300,\n",
       "                                                         333, 366, 400, 433,\n",
       "                                                         466, 500]},\n",
       "                   random_state=42, scoring='neg_mean_absolute_error',\n",
       "                   verbose=2)"
      ]
     },
     "execution_count": 114,
     "metadata": {},
     "output_type": "execute_result"
    }
   ],
   "source": [
    "# Use the random grid to search for best hyperparameters\n",
    "# First create the base model to tune\n",
    "rf = RandomForestRegressor()\n",
    "# Random search of parameters, using 3 fold cross validation, \n",
    "# search across 100 different combinations, and use all available cores\n",
    "rf_random = RandomizedSearchCV(estimator=rf, param_distributions=random_grid,\n",
    "                              n_iter = 100, scoring='neg_mean_absolute_error', \n",
    "                              cv = 3, verbose=2, random_state=42, n_jobs=-1)\n",
    "\n",
    "# Fit the random search model\n",
    "rf_random.fit(train_features, train_labels)"
   ]
  },
  {
   "cell_type": "code",
   "execution_count": 115,
   "metadata": {},
   "outputs": [
    {
     "data": {
      "text/plain": [
       "{'n_estimators': 200,\n",
       " 'min_samples_split': 2,\n",
       " 'min_samples_leaf': 1,\n",
       " 'max_features': 'auto',\n",
       " 'max_depth': 50,\n",
       " 'bootstrap': True}"
      ]
     },
     "execution_count": 115,
     "metadata": {},
     "output_type": "execute_result"
    }
   ],
   "source": [
    "rf_random.best_params_"
   ]
  },
  {
   "cell_type": "markdown",
   "metadata": {},
   "source": [
    "### Evaluate Function"
   ]
  },
  {
   "cell_type": "code",
   "execution_count": 116,
   "metadata": {},
   "outputs": [],
   "source": [
    "def evaluate(model, test_features, test_labels):\n",
    "    predictions = model.predict(test_features)\n",
    "    errors = abs(predictions - test_labels)\n",
    "    mape = 100 * np.mean(errors / test_labels)\n",
    "    accuracy = 100 - mape\n",
    "    print('Model Performance')\n",
    "    print('Average Error: {:0.4f} degrees.'.format(np.mean(errors)))\n",
    "    print('Accuracy = {:0.2f}%.'.format(accuracy))"
   ]
  },
  {
   "cell_type": "code",
   "execution_count": 117,
   "metadata": {},
   "outputs": [
    {
     "name": "stdout",
     "output_type": "stream",
     "text": [
      "Model Performance\n",
      "Average Error: 0.0174 degrees.\n",
      "Accuracy = 10.03%.\n"
     ]
    }
   ],
   "source": [
    "# Evaluate the Default Model\n",
    "base_model = RandomForestRegressor(n_estimators = 1000, random_state = 42)\n",
    "base_model.fit(train_features, train_labels)\n",
    "evaluate(base_model, test_features, test_labels)"
   ]
  },
  {
   "cell_type": "code",
   "execution_count": 118,
   "metadata": {},
   "outputs": [
    {
     "name": "stdout",
     "output_type": "stream",
     "text": [
      "Model Performance\n",
      "Average Error: 0.0178 degrees.\n",
      "Accuracy = 6.76%.\n"
     ]
    }
   ],
   "source": [
    "# Evaluate the Best Random Search Model\n",
    "best_random = rf_random.best_estimator_\n",
    "evaluate(best_random, test_features, test_labels)"
   ]
  },
  {
   "cell_type": "markdown",
   "metadata": {},
   "source": [
    "### Grid Search"
   ]
  },
  {
   "cell_type": "code",
   "execution_count": null,
   "metadata": {},
   "outputs": [],
   "source": [
    "# Create the parameter grid based on the results of random search \n",
    "param_grid = {\n",
    "    'bootstrap': [True],\n",
    "    'max_depth': [80, 90, 100, 110],\n",
    "    'max_features': [2, 3],\n",
    "    'min_samples_leaf': [3, 4, 5],\n",
    "    'min_samples_split': [8, 10, 12],\n",
    "    'n_estimators': [100, 200, 300, 500]\n",
    "}\n",
    "\n",
    "# Create a based model\n",
    "rf = RandomForestRegressor()\n",
    "\n",
    "# Instantiate the grid search model\n",
    "grid_search = GridSearchCV(estimator = rf, param_grid = param_grid, \n",
    "                           scoring = 'neg_mean_absolute_error', cv = 3, \n",
    "                           n_jobs = -1, verbose = 2)"
   ]
  },
  {
   "cell_type": "code",
   "execution_count": null,
   "metadata": {},
   "outputs": [],
   "source": [
    "# Fit the grid search to the data\n",
    "grid_search.fit(train_features, train_labels)"
   ]
  },
  {
   "cell_type": "code",
   "execution_count": null,
   "metadata": {},
   "outputs": [],
   "source": [
    "grid_search.best_params_"
   ]
  },
  {
   "cell_type": "code",
   "execution_count": null,
   "metadata": {
    "scrolled": true
   },
   "outputs": [],
   "source": [
    "best_grid = grid_search.best_estimator_\n",
    "evaluate(best_grid, test_features, test_labels)"
   ]
  },
  {
   "cell_type": "markdown",
   "metadata": {},
   "source": [
    "### Additional Round of Grid Search"
   ]
  },
  {
   "cell_type": "code",
   "execution_count": null,
   "metadata": {},
   "outputs": [],
   "source": [
    "param_grid = {\n",
    "    'bootstrap': [True],\n",
    "    'max_depth': [110, 120, None],\n",
    "    'max_features': [3, 4],\n",
    "    'min_samples_leaf': [5, 6, 7],\n",
    "    'min_samples_split': [10],\n",
    "    'n_estimators': [75, 100, 125]\n",
    "}\n",
    "\n",
    "# Create a based model\n",
    "rf = RandomForestRegressor()\n",
    "\n",
    "# Instantiate the grid search model\n",
    "grid_search_ad = GridSearchCV(estimator = rf, param_grid = param_grid, \n",
    "                           scoring = 'neg_mean_absolute_error', cv = 3, \n",
    "                           n_jobs = -1, verbose = 2)\n",
    "\n",
    "grid_search_ad.fit(train_features, train_labels)"
   ]
  },
  {
   "cell_type": "code",
   "execution_count": null,
   "metadata": {},
   "outputs": [],
   "source": [
    "grid_search_ad.best_params_"
   ]
  },
  {
   "cell_type": "code",
   "execution_count": null,
   "metadata": {},
   "outputs": [],
   "source": [
    "best_grid_ad = grid_search_ad.best_estimator_\n",
    "evaluate(best_grid_ad, test_features, test_labels)"
   ]
  },
  {
   "cell_type": "markdown",
   "metadata": {},
   "source": [
    "### Final Model"
   ]
  },
  {
   "cell_type": "code",
   "execution_count": null,
   "metadata": {},
   "outputs": [],
   "source": [
    "print('Model Parameters:\\n')\n",
    "pprint(best_grid.get_params())\n",
    "print('\\n')\n",
    "evaluate(best_grid, test_features, test_labels)"
   ]
  },
  {
   "cell_type": "markdown",
   "metadata": {},
   "source": [
    "# Lasso"
   ]
  },
  {
   "cell_type": "code",
   "execution_count": 46,
   "metadata": {
    "scrolled": true
   },
   "outputs": [
    {
     "name": "stdout",
     "output_type": "stream",
     "text": [
      "mse 0.3100503507092104\n",
      "R^2 score 0.44219965342596834\n"
     ]
    },
    {
     "data": {
      "image/png": "[encoded data removed]",
      "text/plain": [
       "<Figure size 432x288 with 1 Axes>"
      ]
     },
     "metadata": {
      "needs_background": "light"
     },
     "output_type": "display_data"
    }
   ],
   "source": [
    "############ Lasso model ###############\n",
    "\n",
    "from sklearn import linear_model\n",
    "from sklearn.metrics import r2_score\n",
    "\n",
    "clf = linear_model.Lasso(alpha=1)\n",
    "clf.fit(X_train, y_train)\n",
    "y_pred = clf.predict(X_test)\n",
    "\n",
    "print('mse',mean_squared_error(y_test, y_pred))\n",
    "print('R^2 score', r2_score(y_test, y_pred))\n",
    "\n",
    "pyplot.plot(y_test, label='actual liquidity cost')\n",
    "pyplot.plot(y_pred, label='predicted liquidity cost')\n",
    "pyplot.xlabel('')\n",
    "pyplot.ylabel('normalized liquidity cost')\n",
    "pyplot.title('Liquidity Cost (Level 2 Tick Data)')\n",
    "pyplot.legend()\n",
    "pyplot.show()"
   ]
  }
 ],
 "metadata": {
  "kernelspec": {
   "display_name": "Python 3",
   "language": "python",
   "name": "python3"
  },
  "language_info": {
   "codemirror_mode": {
    "name": "ipython",
    "version": 3
   },
   "file_extension": ".py",
   "mimetype": "text/x-python",
   "name": "python",
   "nbconvert_exporter": "python",
   "pygments_lexer": "ipython3",
   "version": "3.8.5"
  }
 },
 "nbformat": 4,
 "nbformat_minor": 4
}
